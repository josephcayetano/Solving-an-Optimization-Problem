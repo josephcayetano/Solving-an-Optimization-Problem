{
 "cells": [
  {
   "cell_type": "markdown",
   "id": "a7582559-5179-4baf-b7ca-fe3e0e70a9f1",
   "metadata": {},
   "source": [
    "# D605 Task 3: Solves an Optimization Problem"
   ]
  },
  {
   "cell_type": "markdown",
   "id": "d76de953-f041-4dfe-ab13-0f32249706dd",
   "metadata": {},
   "source": [
    "### A. Using the mathematical representations that you developed in Task 2, write a program in Python to solve the optimization problem computationally"
   ]
  },
  {
   "cell_type": "code",
   "execution_count": 1,
   "id": "5596cd79-634d-47c8-8078-dd528653093a",
   "metadata": {},
   "outputs": [],
   "source": [
    "from pulp import *"
   ]
  },
  {
   "cell_type": "code",
   "execution_count": 2,
   "id": "070371be-7239-42b2-b34c-ab1089d1d73b",
   "metadata": {},
   "outputs": [],
   "source": [
    "#hubs with monthly capacities (tons)\n",
    "hubs = {\n",
    "    \"Cincinnati\": 95650,\n",
    "    \"FortWorth\": 44350\n",
    "}\n",
    "\n",
    "#focus cities with monthly capacities (tons)\n",
    "focus_cities = {\n",
    "    \"Leipzig\": 85000,\n",
    "    \"Hyderabad\": 19000,\n",
    "    \"SanBernardino\": 36000\n",
    "}\n",
    "\n",
    "#fulfillment centers with monthly demand (tons)\n",
    "fulfillment_centers = {\n",
    "    \"Paris\": 6500, \"Cologne\": 640, \"Hanover\": 180, \"Bangalore\": 9100, \"Coimbatore\": 570,\n",
    "    \"Delhi\": 19000, \"Mumbai\": 14800, \"Cagliari\": 90, \"Catania\": 185, \"Milan\": 800, \"Rome\": 1700,\n",
    "    \"Katowice\": 170, \"Barcelona\": 2800, \"Madrid\": 3700, \"Castle Donington\": 30, \"London\": 6700,\n",
    "    \"Mobile\": 190, \"Anchorage\": 175, \"Fairbanks\": 38, \"Phoenix\": 2400, \"Los Angeles\": 7200,\n",
    "    \"Ontario\": 100, \"Riverside\": 1200, \"Sacramento\": 1100, \"San Francisco\": 1900, \"Stockton\": 240,\n",
    "    \"Denver\": 1500, \"Hartford\": 540, \"Miami\": 3400, \"Lakeland\": 185, \"Tampa\": 1600, \"Atlanta\": 3000,\n",
    "    \"Honolulu\": 500, \"Kahului/Maui\": 16, \"Kona\": 63, \"Chicago\": 5100, \"Rockford\": 172,\n",
    "    \"Fort Wayne\": 200, \"South Bend\": 173, \"Des Moines\": 300, \"Wichita\": 290, \"New Orleans\": 550,\n",
    "    \"Baltimore\": 1300, \"Minneapolis\": 1700, \"Kansas City\": 975, \"St. Louis\": 1200, \"Omaha\": 480,\n",
    "    \"Manchester\": 100, \"Albuquerque\": 450, \"New York\": 11200, \"Charlotte\": 900, \"Toledo\": 290,\n",
    "    \"Wilmington\": 150, \"Portland\": 1200, \"Allentown\": 420, \"Pittsburgh\": 1000, \"San Juan\": 1100,\n",
    "    \"Nashville\": 650, \"Austin\": 975, \"Dallas\": 3300, \"Houston\": 3300, \"San Antonio\": 1100,\n",
    "    \"Richmond\": 600, \"Seattle/Tacoma\": 2000, \"Spokane\": 260\n",
    "}"
   ]
  },
  {
   "cell_type": "markdown",
   "id": "3bdcf37c-4324-401d-aa38-2e9c6260f2c8",
   "metadata": {},
   "source": [
    "<p>In this code chunk, I created three dictionaries. First is \"hubs\" and it defines the monthly capacity for each hub. Second is \"focus_cities\" and it defines the monthly capacity for each focus city. Third is \"fulfillment centers\" and it shows the monthly demand for each fulfillment center.</p>"
   ]
  },
  {
   "cell_type": "code",
   "execution_count": 3,
   "id": "752659f4-55d6-45f6-89b2-59c9154ab740",
   "metadata": {},
   "outputs": [],
   "source": [
    "cost_data = {\n",
    "    #hubs to focus cities\n",
    "    (\"Cincinnati\", \"Leipzig\"): 1.5,\n",
    "    (\"Cincinnati\", \"SanBernardino\"): 0.5,\n",
    "    (\"FortWorth\", \"SanBernardino\"): 0.5,\n",
    "\n",
    "    #hubs to fulfillment centers\n",
    "    (\"Cincinnati\", \"Paris\"): 1.6, (\"Cincinnati\", \"Cologne\"): 1.5, (\"Cincinnati\", \"Hanover\"): 1.5,\n",
    "    (\"Cincinnati\", \"Cagliari\"): 1.5, (\"Cincinnati\", \"Catania\"): 1.5, (\"Cincinnati\", \"Milan\"): 1.5,\n",
    "    (\"Cincinnati\", \"Rome\"): 1.5, (\"Cincinnati\", \"Katowice\"): 1.4, (\"Cincinnati\", \"Barcelona\"): 1.5,\n",
    "    (\"Cincinnati\", \"Madrid\"): 1.6, (\"Cincinnati\", \"Castle Donington\"): 1.4, (\"Cincinnati\", \"London\"): 1.6,\n",
    "    (\"Cincinnati\", \"Mobile\"): 0.5, (\"Cincinnati\", \"Anchorage\"): 1.3, (\"Cincinnati\", \"Fairbanks\"): 1.4,\n",
    "    (\"Cincinnati\", \"Phoenix\"): 0.5, (\"Cincinnati\", \"Los Angeles\"): 0.5, (\"Cincinnati\", \"Ontario\"): 0.5,\n",
    "    (\"Cincinnati\", \"Riverside\"): 0.5, (\"Cincinnati\", \"Sacramento\"): 0.5, (\"Cincinnati\", \"San Francisco\"): 0.5,\n",
    "    (\"Cincinnati\", \"Stockton\"): 0.5, (\"Cincinnati\", \"Denver\"): 0.5, (\"Cincinnati\", \"Hartford\"): 0.5,\n",
    "    (\"Cincinnati\", \"Miami\"): 0.5, (\"Cincinnati\", \"Lakeland\"): 0.5, (\"Cincinnati\", \"Tampa\"): 0.5,\n",
    "    (\"Cincinnati\", \"Atlanta\"): 0.5, (\"Cincinnati\", \"Chicago\"): 0.5, (\"Cincinnati\", \"Rockford\"): 0.5,\n",
    "    (\"Cincinnati\", \"Fort Wayne\"): 0.5, (\"Cincinnati\", \"South Bend\"): 0.5, (\"Cincinnati\", \"Des Moines\"): 0.5,\n",
    "    (\"Cincinnati\", \"Wichita\"): 0.5, (\"Cincinnati\", \"New Orleans\"): 0.5, (\"Cincinnati\", \"Baltimore\"): 0.5,\n",
    "    (\"Cincinnati\", \"Minneapolis\"): 0.5, (\"Cincinnati\", \"Kansas City\"): 0.5, (\"Cincinnati\", \"St. Louis\"): 0.5,\n",
    "    (\"Cincinnati\", \"Omaha\"): 0.5, (\"Cincinnati\", \"Manchester\"): 0.5, (\"Cincinnati\", \"Albuquerque\"): 0.5,\n",
    "    (\"Cincinnati\", \"New York\"): 0.5, (\"Cincinnati\", \"Charlotte\"): 0.5, (\"Cincinnati\", \"Toledo\"): 0.5,\n",
    "    (\"Cincinnati\", \"Wilmington\"): 0.5, (\"Cincinnati\", \"Portland\"): 0.5, (\"Cincinnati\", \"Allentown\"): 0.5,\n",
    "    (\"Cincinnati\", \"Pittsburgh\"): 0.5, (\"Cincinnati\", \"San Juan\"): 0.5, (\"Cincinnati\", \"Nashville\"): 0.5,\n",
    "    (\"Cincinnati\", \"Austin\"): 0.5, (\"Cincinnati\", \"Dallas\"): 0.5, (\"Cincinnati\", \"Houston\"): 0.5,\n",
    "    (\"Cincinnati\", \"San Antonio\"): 0.5, (\"Cincinnati\", \"Richmond\"): 0.5, (\"Cincinnati\", \"Seattle/Tacoma\"): 0.5,\n",
    "    (\"Cincinnati\", \"Spokane\"): 0.5, (\"FortWorth\", \"Mobile\"): 0.5, (\"FortWorth\", \"Anchorage\"): 1.0,\n",
    "    (\"FortWorth\", \"Fairbanks\"): 1.0, (\"FortWorth\", \"Phoenix\"): 0.5, (\"FortWorth\", \"Los Angeles\"): 0.5,\n",
    "    (\"FortWorth\", \"Ontario\"): 0.5, (\"FortWorth\", \"Riverside\"): 0.5, (\"FortWorth\", \"Sacramento\"): 0.5,\n",
    "    (\"FortWorth\", \"San Francisco\"): 0.5, (\"FortWorth\", \"Stockton\"): 0.5, (\"FortWorth\", \"Denver\"): 0.5,\n",
    "    (\"FortWorth\", \"Hartford\"): 0.5, (\"FortWorth\", \"Miami\"): 0.5, (\"FortWorth\", \"Lakeland\"): 0.5,\n",
    "    (\"FortWorth\", \"Tampa\"): 0.5, (\"FortWorth\", \"Atlanta\"): 0.5, (\"FortWorth\", \"Honolulu\"): 0.5,\n",
    "    (\"FortWorth\", \"Kahului/Maui\"): 0.5, (\"FortWorth\", \"Kona\"): 0.5, (\"FortWorth\", \"Chicago\"): 0.5,\n",
    "    (\"FortWorth\", \"Rockford\"): 0.5, (\"FortWorth\", \"Fort Wayne\"): 0.5, (\"FortWorth\", \"South Bend\"): 0.5,\n",
    "    (\"FortWorth\", \"Des Moines\"): 0.5, (\"FortWorth\", \"Wichita\"): 0.5, (\"FortWorth\", \"New Orleans\"): 0.5,\n",
    "    (\"FortWorth\", \"Baltimore\"): 0.5, (\"FortWorth\", \"Minneapolis\"): 0.5, (\"FortWorth\", \"Kansas City\"): 0.5,\n",
    "    (\"FortWorth\", \"St. Louis\"): 0.5, (\"FortWorth\", \"Omaha\"): 0.5, (\"FortWorth\", \"Manchester\"): 0.5,\n",
    "    (\"FortWorth\", \"Albuquerque\"): 0.5, (\"FortWorth\", \"New York\"): 0.5, (\"FortWorth\", \"Charlotte\"): 0.5,\n",
    "    (\"FortWorth\", \"Toledo\"): 0.5, (\"FortWorth\", \"Wilmington\"): 0.5, (\"FortWorth\", \"Portland\"): 0.5,\n",
    "    (\"FortWorth\", \"Allentown\"): 0.5, (\"FortWorth\", \"Pittsburgh\"): 0.5, (\"FortWorth\", \"San Juan\"): 0.5,\n",
    "    (\"FortWorth\", \"Nashville\"): 0.5, (\"FortWorth\", \"Austin\"): 0.25, (\"FortWorth\", \"Houston\"): 0.25,\n",
    "    (\"FortWorth\", \"San Antonio\"): 0.25, (\"FortWorth\", \"Richmond\"): 0.5, (\"FortWorth\", \"Seattle/Tacoma\"): 0.5,\n",
    "    (\"FortWorth\", \"Spokane\"): 0.5,\n",
    "\n",
    "    #focus cities to fulfillment centers\n",
    "    (\"Leipzig\", \"Paris\"): 0.5, (\"Leipzig\", \"Cologne\"): 0.5, (\"Leipzig\", \"Hanover\"): 0.5,\n",
    "    (\"Leipzig\", \"Cagliari\"): 0.5, (\"Leipzig\", \"Catania\"): 0.5, (\"Leipzig\", \"Milan\"): 0.5,\n",
    "    (\"Leipzig\", \"Rome\"): 0.5, (\"Leipzig\", \"Katowice\"): 0.5, (\"Leipzig\", \"Barcelona\"): 0.5,\n",
    "    (\"Leipzig\", \"Madrid\"): 0.5, (\"Leipzig\", \"Castle Donington\"): 0.5, (\"Leipzig\", \"London\"): 0.75,\n",
    "    (\"Leipzig\", \"Hartford\"): 1.5, (\"Leipzig\", \"Baltimore\"): 1.5, (\"Leipzig\", \"Manchester\"): 1.5,\n",
    "    (\"Leipzig\", \"New York\"): 1.6, (\"Leipzig\", \"Allentown\"): 1.5, (\"Leipzig\", \"Bangalore\"): 1.5,\n",
    "    (\"Leipzig\", \"Coimbatore\"): 1.5, (\"Leipzig\", \"Delhi\"): 1.5, (\"Leipzig\", \"Mumbai\"): 1.5,\n",
    "    (\"Hyderabad\", \"Paris\"): 1.1, (\"Hyderabad\", \"Cologne\"): 1.0, (\"Hyderabad\", \"Hanover\"): 1.0,\n",
    "    (\"Hyderabad\", \"Cagliari\"): 1.0, (\"Hyderabad\", \"Catania\"): 1.0, (\"Hyderabad\", \"Milan\"): 1.0,\n",
    "    (\"Hyderabad\", \"Rome\"): 1.1, (\"Hyderabad\", \"Katowice\"): 1.0, (\"Hyderabad\", \"Barcelona\"): 1.0,\n",
    "    (\"Hyderabad\", \"Madrid\"): 1.1, (\"Hyderabad\", \"London\"): 1.1,\n",
    "    (\"Hyderabad\", \"Bangalore\"): 0.5, (\"Hyderabad\", \"Coimbatore\"): 0.5, (\"Hyderabad\", \"Delhi\"): 0.5,\n",
    "    (\"Hyderabad\", \"Mumbai\"): 0.5, (\"SanBernardino\", \"Mobile\"): 0.5, (\"SanBernardino\", \"Anchorage\"): 0.7,\n",
    "    (\"SanBernardino\", \"Fairbanks\"): 0.7, (\"SanBernardino\", \"Phoenix\"): 0.5, (\"SanBernardino\", \"Sacramento\"): 0.5,\n",
    "    (\"SanBernardino\", \"San Francisco\"): 0.5, (\"SanBernardino\", \"Stockton\"): 0.5, (\"SanBernardino\", \"Denver\"): 0.5,\n",
    "    (\"SanBernardino\", \"Hartford\"): 0.5, (\"SanBernardino\", \"Miami\"): 0.7, (\"SanBernardino\", \"Lakeland\"): 0.7,\n",
    "    (\"SanBernardino\", \"Tampa\"): 0.7, (\"SanBernardino\", \"Atlanta\"): 0.6, (\"SanBernardino\", \"Honolulu\"): 0.5,\n",
    "    (\"SanBernardino\", \"Kahului/Maui\"): 0.5, (\"SanBernardino\", \"Kona\"): 0.5, (\"SanBernardino\", \"Chicago\"): 0.5,\n",
    "    (\"SanBernardino\", \"Rockford\"): 0.5, (\"SanBernardino\", \"Fort Wayne\"): 0.5, (\"SanBernardino\", \"South Bend\"): 0.5,\n",
    "    (\"SanBernardino\", \"Des Moines\"): 0.5, (\"SanBernardino\", \"Wichita\"): 0.5, (\"SanBernardino\", \"New Orleans\"): 0.5,\n",
    "    (\"SanBernardino\", \"Baltimore\"): 0.7, (\"SanBernardino\", \"Minneapolis\"): 0.5, (\"SanBernardino\", \"Kansas City\"): 0.5,\n",
    "    (\"SanBernardino\", \"St. Louis\"): 0.5, (\"SanBernardino\", \"Omaha\"): 0.5, (\"SanBernardino\", \"Manchester\"): 0.7,\n",
    "    (\"SanBernardino\", \"Albuquerque\"): 0.5, (\"SanBernardino\", \"New York\"): 0.7, (\"SanBernardino\", \"Charlotte\"): 0.7,\n",
    "    (\"SanBernardino\", \"Toledo\"): 0.5, (\"SanBernardino\", \"Wilmington\"): 0.7, (\"SanBernardino\", \"Portland\"): 0.5,\n",
    "    (\"SanBernardino\", \"Allentown\"): 0.7, (\"SanBernardino\", \"Pittsburgh\"): 0.6, (\"SanBernardino\", \"San Juan\"): 1.0, \n",
    "    (\"SanBernardino\", \"Nashville\"): 0.5, (\"SanBernardino\", \"Austin\"): 0.5, (\"SanBernardino\", \"Dallas\"): 0.5,\n",
    "    (\"SanBernardino\", \"Houston\"): 0.5, (\"SanBernardino\", \"San Antonio\"): 0.5, (\"SanBernardino\", \"Richmond\"): 0.7,\n",
    "    (\"SanBernardino\", \"Seattle/Tacoma\"): 0.5, (\"SanBernardino\", \"Spokane\"): 0.5\n",
    "}"
   ]
  },
  {
   "cell_type": "markdown",
   "id": "149985db-4f2e-4a63-96c0-2aa3c7ea2f59",
   "metadata": {},
   "source": [
    "<p>In this code chunk, I created a dictionary called \"cost_data\" that stores shipping costs for each route. Each key is a route pair (origin, desitination), and each value is the cost per ton. I grouped the data into three types of routes: from hubs to focus cities, from hubs to fulfillment centers, and from focus cities to fulfillment centers.</p>"
   ]
  },
  {
   "cell_type": "code",
   "execution_count": 4,
   "id": "8eb9fc9d-2210-4ad5-95db-8e10d20ed3db",
   "metadata": {},
   "outputs": [],
   "source": [
    "model = LpProblem(\"Amazon_Air_Optimization\", LpMinimize)\n",
    "\n",
    "#dividing cost_data by type\n",
    "cost_hub_to_focus = {(i, j): c for (i, j), c in cost_data.items() if i in hubs and j in focus_cities}\n",
    "cost_hub_to_center = {(i, k): c for (i, k), c in cost_data.items() if i in hubs and k in fulfillment_centers}\n",
    "cost_focus_to_center = {(j, k): c for (j, k), c in cost_data.items() if j in focus_cities and k in fulfillment_centers}\n",
    "\n",
    "#defining decision variables\n",
    "x = LpVariable.dicts(\"x\", cost_hub_to_focus, lowBound=0, cat=\"Continuous\")\n",
    "y = LpVariable.dicts(\"y\", cost_hub_to_center, lowBound=0, cat=\"Continuous\")\n",
    "z = LpVariable.dicts(\"z\", cost_focus_to_center, lowBound=0, cat=\"Continuous\")\n",
    "\n",
    "#creating the objective function, which is to minimize total transportation cost\n",
    "model += (\n",
    "    lpSum(cost_hub_to_focus[i, j] * x[i, j] for (i, j) in x) +\n",
    "    lpSum(cost_hub_to_center[i, k] * y[i, k] for (i, k) in y) +\n",
    "    lpSum(cost_focus_to_center[j, k] * z[j, k] for (j, k) in z)\n",
    ")"
   ]
  },
  {
   "cell_type": "markdown",
   "id": "7fa293de-aa7b-4a9f-a6ff-4b8a4f5b62a7",
   "metadata": {},
   "source": [
    "<p>In this code chunk, I started by creating a new linear programming problem called \"Amazon_Air_Optimization\". I used the argument \"LpMinimize\" to specify that the goal is to minimize the objective function. Next, I split the \"cost_data\" dictionary based on route types to make the model easier to work with. The variable \"cost_hub_to_focus\" contains costs for routes from hubs to focus cities. The variable \"cost_hub_to_center\" contains costs for routes directly from hubs to fulfillment centers. The variable \"cost_focus_to_center\" contains costs for routes from focus cities to fulfillment centers.</p>\n",
    "\n",
    "<p>Then, I created three decision variables that represent shipment quantities for each route type. The variable \"x[i, j]\" is the quantity shipped from hub i to focus city j. The variable \"y[i, k]\" is the quantity shipped directly from hub i to fulfillment center k. The variable \"z[j, k]\" is the quantity shipped from focus city j to fulfillment center k. I made sure that the variables are continuous and that there are no negative shipment quantities. Finally, I created the objective function to minimize the total transportation cost. This was done by multiplying each shipment quantity by its cost and summing all route costs.</p>"
   ]
  },
  {
   "cell_type": "code",
   "execution_count": 5,
   "id": "95385405-fa58-41d8-a0ea-9fe234ff5b48",
   "metadata": {},
   "outputs": [],
   "source": [
    "#hub capacity constraint\n",
    "for i in hubs:\n",
    "    model += (\n",
    "        lpSum(x[i, j] for j in focus_cities if (i, j) in x) +\n",
    "        lpSum(y[i, k] for k in fulfillment_centers if (i, k) in y)\n",
    "    ) <= hubs[i]\n",
    "\n",
    "#focus city capacity constraint\n",
    "for j in focus_cities:\n",
    "    model += (\n",
    "        lpSum(x[i, j] for i in hubs if (i, j) in x)\n",
    "    ) <= focus_cities[j]\n",
    "\n",
    "#flow balance at focus cities constraint\n",
    "for j in focus_cities:\n",
    "    model += (\n",
    "        lpSum(x[i, j] for i in hubs if (i, j) in x)\n",
    "        == lpSum(z[j, k] for k in fulfillment_centers if (j, k) in z)\n",
    "    )\n",
    "\n",
    "#fulfillment center demand constraint\n",
    "for k in fulfillment_centers:\n",
    "    model += (\n",
    "        lpSum(y[i, k] for i in hubs if (i, k) in y) +\n",
    "        lpSum(z[j, k] for j in focus_cities if (j, k) in z)\n",
    "    ) == fulfillment_centers[k]"
   ]
  },
  {
   "cell_type": "markdown",
   "id": "ce5bf04b-d1df-4cd1-8d0b-4ca13dbdba24",
   "metadata": {},
   "source": [
    "<p>In this code chunk, I defined the constraints for the optimization problem. These constraints make sure the solution follows real-world limits like capacity and demand. The first constraint is the hub capacity constraint, which ensures that the total cargo shipped out from each hub does not exceed its monthly capacity. For example, the Cincinnati hub cannot ship more than 95,650 tons per month to focus cities and fulfillment centers combined. The second constraint is the focus city capacity constraint, which ensures that the total cargo entering each focus city stays within its handling capacity. For example, the focus city Leipzig can receive up to 85,000 tons from all hubs each month. The third constraint is the flow balance at focus cities, which ensures that all cargo received by a focus city is sent to fulfillment centers without any surplus or shortage. For example, if the focus city Leipzig receives 50,000 tons, it must send exactly 50,000 tons to the fulfillment centers. The fourth constraint is the fulfillment center demand constraint, which ensures each fulfillment center receives exactly the amount of cargo it needs. For example, the Paris fulfillment center must receive 6,500 tons per month, either directly from hubs or through focus cities.</p>"
   ]
  },
  {
   "cell_type": "code",
   "execution_count": 6,
   "id": "485d70bf-bc60-44e7-a253-8b5003ffb5fc",
   "metadata": {},
   "outputs": [
    {
     "name": "stdout",
     "output_type": "stream",
     "text": [
      "Status: Optimal\n",
      "Total Cost: $ 199476.25\n",
      "\n",
      "Routes Used:\n",
      "x_('Cincinnati',_'Leipzig') = 43470.0\n",
      "y_('Cincinnati',_'Atlanta') = 3000.0\n",
      "y_('Cincinnati',_'Baltimore') = 1300.0\n",
      "y_('Cincinnati',_'Barcelona') = 2800.0\n",
      "y_('Cincinnati',_'Cagliari') = 90.0\n",
      "y_('Cincinnati',_'Castle_Donington') = 30.0\n",
      "y_('Cincinnati',_'Catania') = 185.0\n",
      "y_('Cincinnati',_'Charlotte') = 900.0\n",
      "y_('Cincinnati',_'Chicago') = 5100.0\n",
      "y_('Cincinnati',_'Cologne') = 640.0\n",
      "y_('Cincinnati',_'Dallas') = 3300.0\n",
      "y_('Cincinnati',_'Denver') = 1500.0\n",
      "y_('Cincinnati',_'Hanover') = 180.0\n",
      "y_('Cincinnati',_'Hartford') = 540.0\n",
      "y_('Cincinnati',_'Kansas_City') = 975.0\n",
      "y_('Cincinnati',_'Katowice') = 170.0\n",
      "y_('Cincinnati',_'Lakeland') = 185.0\n",
      "y_('Cincinnati',_'London') = 6700.0\n",
      "y_('Cincinnati',_'Madrid') = 3700.0\n",
      "y_('Cincinnati',_'Miami') = 3400.0\n",
      "y_('Cincinnati',_'Milan') = 800.0\n",
      "y_('Cincinnati',_'New_Orleans') = 550.0\n",
      "y_('Cincinnati',_'Omaha') = 480.0\n",
      "y_('Cincinnati',_'Paris') = 6500.0\n",
      "y_('Cincinnati',_'Phoenix') = 2400.0\n",
      "y_('Cincinnati',_'Portland') = 1200.0\n",
      "y_('Cincinnati',_'Richmond') = 600.0\n",
      "y_('Cincinnati',_'Rome') = 1700.0\n",
      "y_('Cincinnati',_'South_Bend') = 173.0\n",
      "y_('Cincinnati',_'St._Louis') = 1200.0\n",
      "y_('Cincinnati',_'Tampa') = 1600.0\n",
      "y_('Cincinnati',_'Wilmington') = 150.0\n",
      "y_('FortWorth',_'Albuquerque') = 450.0\n",
      "y_('FortWorth',_'Allentown') = 420.0\n",
      "y_('FortWorth',_'Anchorage') = 175.0\n",
      "y_('FortWorth',_'Austin') = 975.0\n",
      "y_('FortWorth',_'Des_Moines') = 300.0\n",
      "y_('FortWorth',_'Fairbanks') = 38.0\n",
      "y_('FortWorth',_'Fort_Wayne') = 200.0\n",
      "y_('FortWorth',_'Honolulu') = 500.0\n",
      "y_('FortWorth',_'Houston') = 3300.0\n",
      "y_('FortWorth',_'Kahului_Maui') = 16.0\n",
      "y_('FortWorth',_'Kona') = 63.0\n",
      "y_('FortWorth',_'Los_Angeles') = 7200.0\n",
      "y_('FortWorth',_'Manchester') = 100.0\n",
      "y_('FortWorth',_'Minneapolis') = 1700.0\n",
      "y_('FortWorth',_'Mobile') = 190.0\n",
      "y_('FortWorth',_'Nashville') = 650.0\n",
      "y_('FortWorth',_'New_York') = 11200.0\n",
      "y_('FortWorth',_'Ontario') = 100.0\n",
      "y_('FortWorth',_'Pittsburgh') = 1000.0\n",
      "y_('FortWorth',_'Riverside') = 1200.0\n",
      "y_('FortWorth',_'Rockford') = 172.0\n",
      "y_('FortWorth',_'Sacramento') = 1100.0\n",
      "y_('FortWorth',_'San_Antonio') = 1100.0\n",
      "y_('FortWorth',_'San_Francisco') = 1900.0\n",
      "y_('FortWorth',_'San_Juan') = 1100.0\n",
      "y_('FortWorth',_'Seattle_Tacoma') = 2000.0\n",
      "y_('FortWorth',_'Spokane') = 260.0\n",
      "y_('FortWorth',_'Stockton') = 240.0\n",
      "y_('FortWorth',_'Toledo') = 290.0\n",
      "y_('FortWorth',_'Wichita') = 290.0\n",
      "z_('Leipzig',_'Bangalore') = 9100.0\n",
      "z_('Leipzig',_'Coimbatore') = 570.0\n",
      "z_('Leipzig',_'Delhi') = 19000.0\n",
      "z_('Leipzig',_'Mumbai') = 14800.0\n"
     ]
    }
   ],
   "source": [
    "model.solve()\n",
    "\n",
    "#displaying results\n",
    "print(\"Status:\", LpStatus[model.status])\n",
    "print(\"Total Cost: $\", round(value(model.objective), 2))\n",
    "print(\"\\nRoutes Used:\")\n",
    "for var in model.variables():\n",
    "    if var.varValue > 0:\n",
    "        print(f\"{var.name} = {var.varValue}\")"
   ]
  },
  {
   "cell_type": "markdown",
   "id": "259c49f5-9670-4bd9-83a1-2004f100fe86",
   "metadata": {},
   "source": [
    "<p>In this code chunk, I solved the optimization problem and displayed the results. First, I used PuLP's default CBC solver to find the solution that minimizes total transportation cost while meeting all constraints. Then, I printed the solution status to check if the solver found an optimal result. After that, I printed the total minimimzed cost. Lastly, I printed only the routes that were used, which are the ones with shipment quantities greater than zero.</p>\n",
    "\n",
    "<p>Looking at the output, the status is optimal, which means the solver found a solution that meets all constraints and gives the lowest possible total transportation cost. The total cost is $199,476.25. All the active routes and their shipment amounts are listed. For example, the route \"x_('Cincinnati',_'Leipzig') = 43470.0\" shows that the Cincinnati hub shipped 43,470 tons to the Leipzig focus city, which likely forwards those shipments to fulfillment centers. Another example is \"y_('Cincinnati',_'Atlanta') = 3000.0\", which means 3,000 tons were shipped directly from the Cincinnati hub to the Atlanta fulfillment center. Lastly, \"z_('Leipzig',_'Delhi') = 19000.0\" shows that the Leipzig focus city sent 19,000 tons to the Delhi fulfillment center.</p>\n",
    "\n",
    "<p>There are no routes from the San Bernardino and Hyderabad focus cities, which means the solver chose not to use them in the optimal solution. This likely happened for a few reasons. First, shipping directly from the Cincinnati and Fort Worth hubs or through Leipzig was cheaper than using San Bernardino or Hyderabad. Second, all fulfillment center demands and capacity limits were met without needing those two cities. Finally, because the goal was to minimize total transportation cost, the solver left out any routes that were not needed or cost-effective.</p>"
   ]
  },
  {
   "cell_type": "markdown",
   "id": "1fd1e2d7-9777-48d0-b920-21b05bb1499e",
   "metadata": {},
   "source": [
    "### A1. Demonstrate that the solver provided a solution to the optimization problem"
   ]
  },
  {
   "cell_type": "code",
   "execution_count": 7,
   "id": "fa55a668-d5d0-465f-afe8-e69f69a05244",
   "metadata": {},
   "outputs": [
    {
     "name": "stdout",
     "output_type": "stream",
     "text": [
      "Status: Optimal\n",
      "Total Cost: $ 199476.25\n"
     ]
    }
   ],
   "source": [
    "model.solve()\n",
    "\n",
    "#displaying results\n",
    "print(\"Status:\", LpStatus[model.status])\n",
    "print(\"Total Cost: $\", round(value(model.objective), 2))"
   ]
  },
  {
   "cell_type": "markdown",
   "id": "4d3d933e-a0e4-44ff-a88d-9d6b31dd237a",
   "metadata": {},
   "source": [
    "<p>The output shows that the solver status is “optimal”, which means the optimization problem was solved successfully and all constraints were met. The total transportation cost is $199,476.25, which is the lowest cost needed to meet all demand while staying within hub and focus city capacities.</p>"
   ]
  },
  {
   "cell_type": "code",
   "execution_count": 8,
   "id": "abc37baf-8877-4785-87f3-cec0f84c8359",
   "metadata": {},
   "outputs": [
    {
     "name": "stdout",
     "output_type": "stream",
     "text": [
      "\n",
      "Routes Used:\n",
      "x_('Cincinnati',_'Leipzig') = 43470.0\n",
      "y_('Cincinnati',_'Atlanta') = 3000.0\n",
      "y_('Cincinnati',_'Baltimore') = 1300.0\n",
      "y_('Cincinnati',_'Barcelona') = 2800.0\n",
      "y_('Cincinnati',_'Cagliari') = 90.0\n",
      "y_('Cincinnati',_'Castle_Donington') = 30.0\n",
      "y_('Cincinnati',_'Catania') = 185.0\n",
      "y_('Cincinnati',_'Charlotte') = 900.0\n",
      "y_('Cincinnati',_'Chicago') = 5100.0\n",
      "y_('Cincinnati',_'Cologne') = 640.0\n",
      "y_('Cincinnati',_'Dallas') = 3300.0\n",
      "y_('Cincinnati',_'Denver') = 1500.0\n",
      "y_('Cincinnati',_'Hanover') = 180.0\n",
      "y_('Cincinnati',_'Hartford') = 540.0\n",
      "y_('Cincinnati',_'Kansas_City') = 975.0\n",
      "y_('Cincinnati',_'Katowice') = 170.0\n",
      "y_('Cincinnati',_'Lakeland') = 185.0\n",
      "y_('Cincinnati',_'London') = 6700.0\n",
      "y_('Cincinnati',_'Madrid') = 3700.0\n",
      "y_('Cincinnati',_'Miami') = 3400.0\n",
      "y_('Cincinnati',_'Milan') = 800.0\n",
      "y_('Cincinnati',_'New_Orleans') = 550.0\n",
      "y_('Cincinnati',_'Omaha') = 480.0\n",
      "y_('Cincinnati',_'Paris') = 6500.0\n",
      "y_('Cincinnati',_'Phoenix') = 2400.0\n",
      "y_('Cincinnati',_'Portland') = 1200.0\n",
      "y_('Cincinnati',_'Richmond') = 600.0\n",
      "y_('Cincinnati',_'Rome') = 1700.0\n",
      "y_('Cincinnati',_'South_Bend') = 173.0\n",
      "y_('Cincinnati',_'St._Louis') = 1200.0\n",
      "y_('Cincinnati',_'Tampa') = 1600.0\n",
      "y_('Cincinnati',_'Wilmington') = 150.0\n",
      "y_('FortWorth',_'Albuquerque') = 450.0\n",
      "y_('FortWorth',_'Allentown') = 420.0\n",
      "y_('FortWorth',_'Anchorage') = 175.0\n",
      "y_('FortWorth',_'Austin') = 975.0\n",
      "y_('FortWorth',_'Des_Moines') = 300.0\n",
      "y_('FortWorth',_'Fairbanks') = 38.0\n",
      "y_('FortWorth',_'Fort_Wayne') = 200.0\n",
      "y_('FortWorth',_'Honolulu') = 500.0\n",
      "y_('FortWorth',_'Houston') = 3300.0\n",
      "y_('FortWorth',_'Kahului_Maui') = 16.0\n",
      "y_('FortWorth',_'Kona') = 63.0\n",
      "y_('FortWorth',_'Los_Angeles') = 7200.0\n",
      "y_('FortWorth',_'Manchester') = 100.0\n",
      "y_('FortWorth',_'Minneapolis') = 1700.0\n",
      "y_('FortWorth',_'Mobile') = 190.0\n",
      "y_('FortWorth',_'Nashville') = 650.0\n",
      "y_('FortWorth',_'New_York') = 11200.0\n",
      "y_('FortWorth',_'Ontario') = 100.0\n",
      "y_('FortWorth',_'Pittsburgh') = 1000.0\n",
      "y_('FortWorth',_'Riverside') = 1200.0\n",
      "y_('FortWorth',_'Rockford') = 172.0\n",
      "y_('FortWorth',_'Sacramento') = 1100.0\n",
      "y_('FortWorth',_'San_Antonio') = 1100.0\n",
      "y_('FortWorth',_'San_Francisco') = 1900.0\n",
      "y_('FortWorth',_'San_Juan') = 1100.0\n",
      "y_('FortWorth',_'Seattle_Tacoma') = 2000.0\n",
      "y_('FortWorth',_'Spokane') = 260.0\n",
      "y_('FortWorth',_'Stockton') = 240.0\n",
      "y_('FortWorth',_'Toledo') = 290.0\n",
      "y_('FortWorth',_'Wichita') = 290.0\n",
      "z_('Leipzig',_'Bangalore') = 9100.0\n",
      "z_('Leipzig',_'Coimbatore') = 570.0\n",
      "z_('Leipzig',_'Delhi') = 19000.0\n",
      "z_('Leipzig',_'Mumbai') = 14800.0\n"
     ]
    }
   ],
   "source": [
    "print(\"\\nRoutes Used:\")\n",
    "for var in model.variables():\n",
    "    if var.varValue > 0:\n",
    "        print(f\"{var.name} = {var.varValue}\")"
   ]
  },
  {
   "cell_type": "markdown",
   "id": "042d8c3a-bddc-40cd-9fd9-48a9c4df3f9b",
   "metadata": {},
   "source": [
    "<p>The routes listed above show the shipment amounts for each route used in the optimal solution. For example, the route \"x_('Cincinnati',_'Leipzig') = 43470.0\" shows that the Cincinnati hub shipped 43,470 tons to the Leipzig focus city, which likely forwarded those shipments to fulfillment centers. Another example is \"y_('Cincinnati',_'Atlanta') = 3000.0\", which means 3,000 tons were shipped directly from the Cincinnati hub to the Atlanta fulfillment center. Lastly, \"z_('Leipzig',_'Delhi') = 19000.0\" shows that the Leipzig focus city sent 19,000 tons to the Delhi fulfillment center. This output confirms that the solver assigned values to the decision variables while meeting all constraints.</p>"
   ]
  },
  {
   "cell_type": "markdown",
   "id": "58d0136a-c661-499e-b60c-9e7f5e964b78",
   "metadata": {},
   "source": [
    "### B. Analyze the output of your model to demonstrate that the solution satisfies the requirements of the problem"
   ]
  },
  {
   "cell_type": "markdown",
   "id": "1b7620d9-16df-4f71-8abe-4b5f79bb1833",
   "metadata": {},
   "source": [
    "<p>The goal of this optimization problem was to minimize the total transportation cost while making sure all fulfillment centers receive the cargo they need and that hubs and focus cities stay within their capacity limits.</p>"
   ]
  },
  {
   "cell_type": "code",
   "execution_count": 9,
   "id": "3d902f92-9598-4625-a9d3-ec14d321e6c2",
   "metadata": {},
   "outputs": [
    {
     "name": "stdout",
     "output_type": "stream",
     "text": [
      "Status: Optimal\n",
      "Total Cost: $ 199476.25\n"
     ]
    }
   ],
   "source": [
    "model.solve()\n",
    "\n",
    "#displaying results\n",
    "print(\"Status:\", LpStatus[model.status])\n",
    "print(\"Total Cost: $\", round(value(model.objective), 2))"
   ]
  },
  {
   "cell_type": "markdown",
   "id": "235fa125-67d3-4557-a024-259d1e01d957",
   "metadata": {},
   "source": [
    "<p>The solver returned a status of ”optimal”, which means the optimization problem was solved successfully and all constraints were met. The total transportation cost is $199,476.25, which is the lowest cost needed to meet all demand while staying within hub and focus city capacities.</p>"
   ]
  },
  {
   "cell_type": "code",
   "execution_count": 10,
   "id": "b6c80ae0-a945-442a-883b-a8827dc0e5e6",
   "metadata": {},
   "outputs": [
    {
     "name": "stdout",
     "output_type": "stream",
     "text": [
      "\n",
      "Routes Used:\n",
      "x_('Cincinnati',_'Leipzig') = 43470.0\n",
      "y_('Cincinnati',_'Atlanta') = 3000.0\n",
      "y_('Cincinnati',_'Baltimore') = 1300.0\n",
      "y_('Cincinnati',_'Barcelona') = 2800.0\n",
      "y_('Cincinnati',_'Cagliari') = 90.0\n",
      "y_('Cincinnati',_'Castle_Donington') = 30.0\n",
      "y_('Cincinnati',_'Catania') = 185.0\n",
      "y_('Cincinnati',_'Charlotte') = 900.0\n",
      "y_('Cincinnati',_'Chicago') = 5100.0\n",
      "y_('Cincinnati',_'Cologne') = 640.0\n",
      "y_('Cincinnati',_'Dallas') = 3300.0\n",
      "y_('Cincinnati',_'Denver') = 1500.0\n",
      "y_('Cincinnati',_'Hanover') = 180.0\n",
      "y_('Cincinnati',_'Hartford') = 540.0\n",
      "y_('Cincinnati',_'Kansas_City') = 975.0\n",
      "y_('Cincinnati',_'Katowice') = 170.0\n",
      "y_('Cincinnati',_'Lakeland') = 185.0\n",
      "y_('Cincinnati',_'London') = 6700.0\n",
      "y_('Cincinnati',_'Madrid') = 3700.0\n",
      "y_('Cincinnati',_'Miami') = 3400.0\n",
      "y_('Cincinnati',_'Milan') = 800.0\n",
      "y_('Cincinnati',_'New_Orleans') = 550.0\n",
      "y_('Cincinnati',_'Omaha') = 480.0\n",
      "y_('Cincinnati',_'Paris') = 6500.0\n",
      "y_('Cincinnati',_'Phoenix') = 2400.0\n",
      "y_('Cincinnati',_'Portland') = 1200.0\n",
      "y_('Cincinnati',_'Richmond') = 600.0\n",
      "y_('Cincinnati',_'Rome') = 1700.0\n",
      "y_('Cincinnati',_'South_Bend') = 173.0\n",
      "y_('Cincinnati',_'St._Louis') = 1200.0\n",
      "y_('Cincinnati',_'Tampa') = 1600.0\n",
      "y_('Cincinnati',_'Wilmington') = 150.0\n",
      "y_('FortWorth',_'Albuquerque') = 450.0\n",
      "y_('FortWorth',_'Allentown') = 420.0\n",
      "y_('FortWorth',_'Anchorage') = 175.0\n",
      "y_('FortWorth',_'Austin') = 975.0\n",
      "y_('FortWorth',_'Des_Moines') = 300.0\n",
      "y_('FortWorth',_'Fairbanks') = 38.0\n",
      "y_('FortWorth',_'Fort_Wayne') = 200.0\n",
      "y_('FortWorth',_'Honolulu') = 500.0\n",
      "y_('FortWorth',_'Houston') = 3300.0\n",
      "y_('FortWorth',_'Kahului_Maui') = 16.0\n",
      "y_('FortWorth',_'Kona') = 63.0\n",
      "y_('FortWorth',_'Los_Angeles') = 7200.0\n",
      "y_('FortWorth',_'Manchester') = 100.0\n",
      "y_('FortWorth',_'Minneapolis') = 1700.0\n",
      "y_('FortWorth',_'Mobile') = 190.0\n",
      "y_('FortWorth',_'Nashville') = 650.0\n",
      "y_('FortWorth',_'New_York') = 11200.0\n",
      "y_('FortWorth',_'Ontario') = 100.0\n",
      "y_('FortWorth',_'Pittsburgh') = 1000.0\n",
      "y_('FortWorth',_'Riverside') = 1200.0\n",
      "y_('FortWorth',_'Rockford') = 172.0\n",
      "y_('FortWorth',_'Sacramento') = 1100.0\n",
      "y_('FortWorth',_'San_Antonio') = 1100.0\n",
      "y_('FortWorth',_'San_Francisco') = 1900.0\n",
      "y_('FortWorth',_'San_Juan') = 1100.0\n",
      "y_('FortWorth',_'Seattle_Tacoma') = 2000.0\n",
      "y_('FortWorth',_'Spokane') = 260.0\n",
      "y_('FortWorth',_'Stockton') = 240.0\n",
      "y_('FortWorth',_'Toledo') = 290.0\n",
      "y_('FortWorth',_'Wichita') = 290.0\n",
      "z_('Leipzig',_'Bangalore') = 9100.0\n",
      "z_('Leipzig',_'Coimbatore') = 570.0\n",
      "z_('Leipzig',_'Delhi') = 19000.0\n",
      "z_('Leipzig',_'Mumbai') = 14800.0\n"
     ]
    }
   ],
   "source": [
    "print(\"\\nRoutes Used:\")\n",
    "for var in model.variables():\n",
    "    if var.varValue > 0:\n",
    "        print(f\"{var.name} = {var.varValue}\")"
   ]
  },
  {
   "cell_type": "markdown",
   "id": "a1b0d001-4702-4bac-b2fd-034ee7fb7a50",
   "metadata": {},
   "source": [
    "<p>The solution satisfies all four constraints. For the hub capacity constraint, both Cincinnati and Fort Worth hubs shipped less than their maximum limits. Looking at the output, the Cincinnati hub shipped a total of 95,518 tons, which is 132 tons under its 95,560-ton capacity. The Fort Worth hub shipped 38,229 tons, staying 6,121 tons below its 44,350-ton capacity.</p>\n",
    "\n",
    "<p>For the focus city capacity constraint, each focus city received only as much as it could handle. For example, the route \"x_('Cincinnati',_'Leipzig') = 43470.0\" shows that the Leipzig focus city only received 43,470 tons, which is well within its 85,000-ton capacity.</p>\n",
    "\n",
    "<p>For the flow balance constraint at focus cities, the total amount received by a focus city equals the amount it sent out. In the output, the Leipzig focus city received 43,470 tons and sent out the same total amount to the fulfillment centers. It shipped 9,100 tons to Bangalore, 570 tons to Coimbatore, 19,000 tons to Delhi, and 14,800 tons to Mumbai. This shows that there was no leftover cargo or shortage at the Leipzig focus city.</p>\n",
    "\n",
    "<p>For the fulfillment center demand constraint, every fulfillment center received exactly what it needed. For example, the route “z_('Leipzig',_'Delhi') = 19000.0” shows that the Delhi fulfillment center received its full demand from the Leipzig focus city, and the route “y_('Cincinnati',_'Atlanta') = 3000.0” shows that the Atlanta fulfillment center received 3,000 tons directly from the Cincinnati hub.</p>\n",
    "\n",
    "<p>There are no routes from the San Bernardino and Hyderabad focus cities, which means the solver chose not to use them in the optimal solution. This likely happened for a few reasons. First, shipping directly from the Cincinnati and Fort Worth hubs or through Leipzig was cheaper than using San Bernardino or Hyderabad. Second, all fulfillment center demands and capacity limits were met without needing those two cities. Finally, because the goal was to minimize total transportation cost, the solver left out any routes that were not needed or cost-effective.</p>"
   ]
  },
  {
   "cell_type": "markdown",
   "id": "44ece356-5157-4216-85aa-451b334dc42c",
   "metadata": {},
   "source": [
    "### B1. Demonstrate that the constraints of the optimization problem are satisfied"
   ]
  },
  {
   "cell_type": "code",
   "execution_count": 11,
   "id": "232b2cbe-c96a-415e-ba02-72f284b523e1",
   "metadata": {},
   "outputs": [
    {
     "name": "stdout",
     "output_type": "stream",
     "text": [
      "Status: Optimal\n",
      "Total Cost: $ 199476.25\n"
     ]
    }
   ],
   "source": [
    "model.solve()\n",
    "\n",
    "#displaying results\n",
    "print(\"Status:\", LpStatus[model.status])\n",
    "print(\"Total Cost: $\", round(value(model.objective), 2))"
   ]
  },
  {
   "cell_type": "markdown",
   "id": "973c1111-5f3e-4616-ada6-3ac3e8fd8165",
   "metadata": {},
   "source": [
    "<p>The solver returned an “optimal” status, which means it found a feasible solution that satisfies all constraints, including hub capacity, focus city capacity, flow balance at focus cities, and fulfillment center demand. The total transportation cost is $199,476.25, which is the lowest cost needed to meet all demand while staying within hub and focus city capacities.</p>"
   ]
  },
  {
   "cell_type": "code",
   "execution_count": 12,
   "id": "0cac7375-682e-4963-9624-3464ead3a552",
   "metadata": {},
   "outputs": [
    {
     "name": "stdout",
     "output_type": "stream",
     "text": [
      "\n",
      "Routes Used:\n",
      "x_('Cincinnati',_'Leipzig') = 43470.0\n",
      "y_('Cincinnati',_'Atlanta') = 3000.0\n",
      "y_('Cincinnati',_'Baltimore') = 1300.0\n",
      "y_('Cincinnati',_'Barcelona') = 2800.0\n",
      "y_('Cincinnati',_'Cagliari') = 90.0\n",
      "y_('Cincinnati',_'Castle_Donington') = 30.0\n",
      "y_('Cincinnati',_'Catania') = 185.0\n",
      "y_('Cincinnati',_'Charlotte') = 900.0\n",
      "y_('Cincinnati',_'Chicago') = 5100.0\n",
      "y_('Cincinnati',_'Cologne') = 640.0\n",
      "y_('Cincinnati',_'Dallas') = 3300.0\n",
      "y_('Cincinnati',_'Denver') = 1500.0\n",
      "y_('Cincinnati',_'Hanover') = 180.0\n",
      "y_('Cincinnati',_'Hartford') = 540.0\n",
      "y_('Cincinnati',_'Kansas_City') = 975.0\n",
      "y_('Cincinnati',_'Katowice') = 170.0\n",
      "y_('Cincinnati',_'Lakeland') = 185.0\n",
      "y_('Cincinnati',_'London') = 6700.0\n",
      "y_('Cincinnati',_'Madrid') = 3700.0\n",
      "y_('Cincinnati',_'Miami') = 3400.0\n",
      "y_('Cincinnati',_'Milan') = 800.0\n",
      "y_('Cincinnati',_'New_Orleans') = 550.0\n",
      "y_('Cincinnati',_'Omaha') = 480.0\n",
      "y_('Cincinnati',_'Paris') = 6500.0\n",
      "y_('Cincinnati',_'Phoenix') = 2400.0\n",
      "y_('Cincinnati',_'Portland') = 1200.0\n",
      "y_('Cincinnati',_'Richmond') = 600.0\n",
      "y_('Cincinnati',_'Rome') = 1700.0\n",
      "y_('Cincinnati',_'South_Bend') = 173.0\n",
      "y_('Cincinnati',_'St._Louis') = 1200.0\n",
      "y_('Cincinnati',_'Tampa') = 1600.0\n",
      "y_('Cincinnati',_'Wilmington') = 150.0\n",
      "y_('FortWorth',_'Albuquerque') = 450.0\n",
      "y_('FortWorth',_'Allentown') = 420.0\n",
      "y_('FortWorth',_'Anchorage') = 175.0\n",
      "y_('FortWorth',_'Austin') = 975.0\n",
      "y_('FortWorth',_'Des_Moines') = 300.0\n",
      "y_('FortWorth',_'Fairbanks') = 38.0\n",
      "y_('FortWorth',_'Fort_Wayne') = 200.0\n",
      "y_('FortWorth',_'Honolulu') = 500.0\n",
      "y_('FortWorth',_'Houston') = 3300.0\n",
      "y_('FortWorth',_'Kahului_Maui') = 16.0\n",
      "y_('FortWorth',_'Kona') = 63.0\n",
      "y_('FortWorth',_'Los_Angeles') = 7200.0\n",
      "y_('FortWorth',_'Manchester') = 100.0\n",
      "y_('FortWorth',_'Minneapolis') = 1700.0\n",
      "y_('FortWorth',_'Mobile') = 190.0\n",
      "y_('FortWorth',_'Nashville') = 650.0\n",
      "y_('FortWorth',_'New_York') = 11200.0\n",
      "y_('FortWorth',_'Ontario') = 100.0\n",
      "y_('FortWorth',_'Pittsburgh') = 1000.0\n",
      "y_('FortWorth',_'Riverside') = 1200.0\n",
      "y_('FortWorth',_'Rockford') = 172.0\n",
      "y_('FortWorth',_'Sacramento') = 1100.0\n",
      "y_('FortWorth',_'San_Antonio') = 1100.0\n",
      "y_('FortWorth',_'San_Francisco') = 1900.0\n",
      "y_('FortWorth',_'San_Juan') = 1100.0\n",
      "y_('FortWorth',_'Seattle_Tacoma') = 2000.0\n",
      "y_('FortWorth',_'Spokane') = 260.0\n",
      "y_('FortWorth',_'Stockton') = 240.0\n",
      "y_('FortWorth',_'Toledo') = 290.0\n",
      "y_('FortWorth',_'Wichita') = 290.0\n",
      "z_('Leipzig',_'Bangalore') = 9100.0\n",
      "z_('Leipzig',_'Coimbatore') = 570.0\n",
      "z_('Leipzig',_'Delhi') = 19000.0\n",
      "z_('Leipzig',_'Mumbai') = 14800.0\n"
     ]
    }
   ],
   "source": [
    "print(\"\\nRoutes Used:\")\n",
    "for var in model.variables():\n",
    "    if var.varValue > 0:\n",
    "        print(f\"{var.name} = {var.varValue}\")"
   ]
  },
  {
   "cell_type": "markdown",
   "id": "c2effa66-e35e-46cf-9fe5-445722a92f11",
   "metadata": {},
   "source": [
    "<p>The solution satisfies all four constraints. For the hub capacity constraint, both Cincinnati and Fort Worth hubs shipped less than their maximum limits. Looking at the output, the Cincinnati hub shipped a total of 95,518 tons, which is 132 tons under its 95,560-ton capacity. The Fort Worth hub shipped 38,229 tons, staying 6,121 tons below its 44,350-ton capacity.</p>\n",
    "\n",
    "<p>For the focus city capacity constraint, each focus city received only as much as it could handle. For example, the route \"x_('Cincinnati',_'Leipzig') = 43470.0\" shows that the Leipzig focus city only received 43,470 tons, which is well within its 85,000-ton capacity.</p>\n",
    "\n",
    "<p>For the flow balance constraint at focus cities, the total amount received by a focus city equals the amount it sent out. In the output, the Leipzig focus city received 43,470 tons and sent out the same total amount to the fulfillment centers. It shipped 9,100 tons to Bangalore, 570 tons to Coimbatore, 19,000 tons to Delhi, and 14,800 tons to Mumbai. This shows that there was no leftover cargo or shortage at the Leipzig focus city.</p>\n",
    "\n",
    "<p>For the fulfillment center demand constraint, every fulfillment center received exactly what it needed. For example, the route “z_('Leipzig',_'Delhi') = 19000.0” shows that the Delhi fulfillment center received its full demand from the Leipzig focus city, and the route “y_('Cincinnati',_'Atlanta') = 3000.0” shows that the Atlanta fulfillment center received 3,000 tons directly from the Cincinnati hub.</p>"
   ]
  },
  {
   "cell_type": "markdown",
   "id": "3fdc0f53-7a2b-4c42-9804-11e34bd2d38b",
   "metadata": {},
   "source": [
    "### B2. Demonstrate that the solution includes decision variables, constraints, and the objective function"
   ]
  },
  {
   "cell_type": "markdown",
   "id": "74356deb-5ca8-4a9d-9951-ca76fd28bf28",
   "metadata": {},
   "source": [
    "<p>The optimization model that I created includes decision variables, constraints, and the objective function.</p>"
   ]
  },
  {
   "cell_type": "code",
   "execution_count": 13,
   "id": "4c7436b8-4ca8-4126-898c-179a77e4a447",
   "metadata": {},
   "outputs": [],
   "source": [
    "model = LpProblem(\"Amazon_Air_Optimization\", LpMinimize)\n",
    "\n",
    "#dividing cost_data by type\n",
    "cost_hub_to_focus = {(i, j): c for (i, j), c in cost_data.items() if i in hubs and j in focus_cities}\n",
    "cost_hub_to_center = {(i, k): c for (i, k), c in cost_data.items() if i in hubs and k in fulfillment_centers}\n",
    "cost_focus_to_center = {(j, k): c for (j, k), c in cost_data.items() if j in focus_cities and k in fulfillment_centers}\n",
    "\n",
    "#defining decision variables\n",
    "x = LpVariable.dicts(\"x\", cost_hub_to_focus, lowBound=0, cat=\"Continuous\")\n",
    "y = LpVariable.dicts(\"y\", cost_hub_to_center, lowBound=0, cat=\"Continuous\")\n",
    "z = LpVariable.dicts(\"z\", cost_focus_to_center, lowBound=0, cat=\"Continuous\")"
   ]
  },
  {
   "cell_type": "markdown",
   "id": "d2d0f5bc-c7ad-4deb-b2c7-7fed8a2455c8",
   "metadata": {},
   "source": [
    "<p>Here, I started by creating a new linear programming problem called \"Amazon_Air_Optimization\". I used the argument \"LpMinimize\" to specify that the goal is to minimize the objective function. Next, I split the \"cost_data\" dictionary based on route types to make the model easier to work with. The variable \"cost_hub_to_focus\" contains costs for routes from hubs to focus cities. The variable \"cost_hub_to_center\" contains costs for routes directly from hubs to fulfillment centers. The variable \"cost_focus_to_center\" contains costs for routes from focus cities to fulfillment centers.</p>\n",
    "\n",
    "<p>Then, I created three decision variables that represent shipment quantities for each route type. The variable \"x[i, j]\" is the quantity shipped from hub i to focus city j. The variable \"y[i, k]\" is the quantity shipped directly from hub i to fulfillment center k. The variable \"z[j, k]\" is the quantity shipped from focus city j to fulfillment center k. I made sure that the variables are continuous and that there are no negative shipment quantities.</p>"
   ]
  },
  {
   "cell_type": "code",
   "execution_count": null,
   "id": "ca07e4de-d2dd-4f2a-82b5-9bcf2cb668aa",
   "metadata": {},
   "outputs": [],
   "source": [
    "#hub capacity constraint\n",
    "for i in hubs:\n",
    "    model += (\n",
    "        lpSum(x[i, j] for j in focus_cities if (i, j) in x) +\n",
    "        lpSum(y[i, k] for k in fulfillment_centers if (i, k) in y)\n",
    "    ) <= hubs[i]\n",
    "\n",
    "#focus city capacity constraint\n",
    "for j in focus_cities:\n",
    "    model += (\n",
    "        lpSum(x[i, j] for i in hubs if (i, j) in x)\n",
    "    ) <= focus_cities[j]\n",
    "\n",
    "#flow balance at focus cities constraint\n",
    "for j in focus_cities:\n",
    "    model += (\n",
    "        lpSum(x[i, j] for i in hubs if (i, j) in x)\n",
    "        == lpSum(z[j, k] for k in fulfillment_centers if (j, k) in z)\n",
    "    )\n",
    "\n",
    "#fulfillment center demand constraint\n",
    "for k in fulfillment_centers:\n",
    "    model += (\n",
    "        lpSum(y[i, k] for i in hubs if (i, k) in y) +\n",
    "        lpSum(z[j, k] for j in focus_cities if (j, k) in z)\n",
    "    ) == fulfillment_centers[k]"
   ]
  },
  {
   "cell_type": "markdown",
   "id": "0cbaf87a-4a3f-4e38-b1ef-3ffc9a40d0bb",
   "metadata": {},
   "source": [
    "<p>Here, I defined the constraints for the optimization problem. These constraints make sure the solution follows real-world limits like capacity and demand. The first constraint is the hub capacity constraint, which ensures that the total cargo shipped out from each hub does not exceed its monthly capacity. For example, the Cincinnati hub cannot ship more than 95,650 tons per month to focus cities and fulfillment centers combined. The second constraint is the focus city capacity constraint, which ensures that the total cargo entering each focus city stays within its handling capacity. For example, the focus city Leipzig can receive up to 85,000 tons from all hubs each month. The third constraint is the flow balance at focus cities, which ensures that all cargo received by a focus city is sent to fulfillment centers without any surplus or shortage. For example, if the focus city Leipzig receives 50,000 tons, it must send exactly 50,000 tons to the fulfillment centers. The fourth constraint is the fulfillment center demand constraint, which ensures each fulfillment center receives exactly the amount of cargo it needs. For example, the Paris fulfillment center must receive 6,500 tons per month, either directly from hubs or through focus cities.</p>"
   ]
  },
  {
   "cell_type": "code",
   "execution_count": null,
   "id": "898af349-8de0-435b-83b3-5f8f71c682bb",
   "metadata": {},
   "outputs": [],
   "source": [
    "#creating the objective function, which is to minimize total transportation cost\n",
    "model += (\n",
    "    lpSum(cost_hub_to_focus[i, j] * x[i, j] for (i, j) in x) +\n",
    "    lpSum(cost_hub_to_center[i, k] * y[i, k] for (i, k) in y) +\n",
    "    lpSum(cost_focus_to_center[j, k] * z[j, k] for (j, k) in z)\n",
    ")"
   ]
  },
  {
   "cell_type": "markdown",
   "id": "00f3a4eb-76db-45c5-915d-a7e2657bf82f",
   "metadata": {},
   "source": [
    "<p>Here, I defined the objective function to minimize the total transportation cost. This is done by multiplying the cost per ton for each route by the amount shipped on that route, and then summing these values across all routes.</p>"
   ]
  },
  {
   "cell_type": "markdown",
   "id": "ebb5a800-831b-4357-be53-b4c0b8154276",
   "metadata": {},
   "source": [
    "### B3. Explain why the solution that your code outputs matches your expected output"
   ]
  },
  {
   "cell_type": "markdown",
   "id": "d4a6fd09-6e08-4023-bc45-148871d3b505",
   "metadata": {},
   "source": [
    "<p>The solution produced by my code matches my expected output because the model was designed to minimize the total transportation cost while satisfying all constraints. The solver returned an “optimal” status, which confirms that it found a valid and cost-effective solution. This indicates that the model successfully minimized the total transportation cost while meeting every constraint. The route output also shows that all four constraints were satisfied. For the hub capacity constraint, both the Cincinnati and Fort Worth hubs shipped less than their maximum limits. For the focus city capacity constraint, each focus city received only as much as it could handle. For the flow balance constraint at focus cities, the total amount received by each focus city equaled the amount it sent out. For the fulfillment center demand constraint, each fulfillment center received exactly what it needed. The solver also avoided using more expensive focus cities like San Bernardino and Hyderabad, which shows that it chose the most cost-effective routes. This all aligns with the goals and expectations of the model.</p>"
   ]
  },
  {
   "cell_type": "markdown",
   "id": "22030f3e-6145-4465-ad53-c522da19abab",
   "metadata": {},
   "source": [
    "### C. Provide a reflection on how the development of your approach matched your expectations of the process"
   ]
  },
  {
   "cell_type": "markdown",
   "id": "e01cd5a7-eaf9-4bbe-94aa-0567a866f35c",
   "metadata": {},
   "source": [
    "<p>When I first started this task, it took me a while to enter all the hubs, focus cities, and fulfillment centers into the program because there were so many. I also made a few typos in the route data, which I didn’t notice until I ran the program and the solver returned an “infeasible” status, which means the model “has no solution that satisfies all the constraints” (Hofmann, 2021, par. 1). Aside from that, everything else went smoothly. Building the optimization model was fairly straightforward, which I expected since I had already defined the objective function, constraints, and decision variables in Task 2. I did face some challenges in organizing the data, especially when I accidentally placed decision variables in the wrong parts of the formulas.</p>\n",
    "\n",
    "<p>I was surprised by how efficiently the solver found the most cost-effective routes. I also didn’t expect that some focus cities, like San Bernardino and Hyderabad, would be completely unused, but it made sense once I saw the results. The solver naturally avoided more expensive or unnecessary routes.</p>\n",
    "\n",
    "<p>Overall, the development process matched my expectations in both structure and outcome. It also reminded me how important it is to carefully check the code and formulas.</p>"
   ]
  },
  {
   "cell_type": "markdown",
   "id": "dd633ecc-3446-490a-b24c-396d67f25b66",
   "metadata": {},
   "source": [
    "### D. Acknowledge sources, using in-text citations and references, for content that is quoted, paraphrased, or summarized"
   ]
  },
  {
   "cell_type": "markdown",
   "id": "e23160d3-0870-45b0-8928-42cda3cf55d2",
   "metadata": {},
   "source": [
    "<pre>\n",
    "Hofmann, F. (2021, March). <i>Trouble shooting - Infeasible Model.</i> Linopy. https://linopy.readthedocs.io/en/latest/infeasible-model.html\n",
    "</pre>"
   ]
  },
  {
   "cell_type": "code",
   "execution_count": null,
   "id": "a5b8d9f9-bf17-416a-b790-6d2289250cbc",
   "metadata": {},
   "outputs": [],
   "source": []
  }
 ],
 "metadata": {
  "kernelspec": {
   "display_name": "Python 3 (ipykernel)",
   "language": "python",
   "name": "python3"
  },
  "language_info": {
   "codemirror_mode": {
    "name": "ipython",
    "version": 3
   },
   "file_extension": ".py",
   "mimetype": "text/x-python",
   "name": "python",
   "nbconvert_exporter": "python",
   "pygments_lexer": "ipython3",
   "version": "3.11.7"
  }
 },
 "nbformat": 4,
 "nbformat_minor": 5
}
